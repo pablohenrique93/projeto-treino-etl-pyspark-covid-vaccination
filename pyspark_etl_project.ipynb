{
  "nbformat": 4,
  "nbformat_minor": 0,
  "metadata": {
    "colab": {
      "provenance": [],
      "toc_visible": true,
      "authorship_tag": "ABX9TyN1XAwGq+a5z1DGhUY+Ti53",
      "include_colab_link": true
    },
    "kernelspec": {
      "name": "python3",
      "display_name": "Python 3"
    },
    "language_info": {
      "name": "python"
    }
  },
  "cells": [
    {
      "cell_type": "markdown",
      "metadata": {
        "id": "view-in-github",
        "colab_type": "text"
      },
      "source": [
        "<a href=\"https://colab.research.google.com/github/pablohenrique93/projeto-treino-etl-pyspark-covid-vaccination/blob/main/pyspark_etl_project.ipynb\" target=\"_parent\"><img src=\"https://colab.research.google.com/assets/colab-badge.svg\" alt=\"Open In Colab\"/></a>"
      ]
    },
    {
      "cell_type": "markdown",
      "source": [
        "# Instalação de Bibliotecas"
      ],
      "metadata": {
        "id": "u1ru0DPxksNz"
      }
    },
    {
      "cell_type": "code",
      "execution_count": null,
      "metadata": {
        "id": "SqymuWXckHR8"
      },
      "outputs": [],
      "source": [
        "!pip install pyspark"
      ]
    },
    {
      "cell_type": "code",
      "source": [
        "pip -q install plotly --upgrade"
      ],
      "metadata": {
        "id": "pPGCLdkCxhBy"
      },
      "execution_count": 54,
      "outputs": []
    },
    {
      "cell_type": "code",
      "source": [
        "pip install pymongo"
      ],
      "metadata": {
        "id": "n4lt3DajEyVR"
      },
      "execution_count": null,
      "outputs": []
    },
    {
      "cell_type": "markdown",
      "source": [
        "# Importação de Bibliotecas"
      ],
      "metadata": {
        "id": "Dsi4VIAJk28D"
      }
    },
    {
      "cell_type": "code",
      "source": [
        "# Importando pyspark\n",
        "import pyspark\n",
        "# Importando a SparkSession\n",
        "from pyspark.sql import SparkSession\n",
        "# Importando pyspark sql funções\n",
        "import pyspark.sql.functions as F\n",
        "# Importando os tipos\n",
        "from pyspark.sql.types import *\n",
        "# Importando o Pandas\n",
        "import pandas as pd"
      ],
      "metadata": {
        "id": "9ftOvWsok2i6"
      },
      "execution_count": 55,
      "outputs": []
    },
    {
      "cell_type": "code",
      "source": [
        "# Importando funções\n",
        "from pyspark.sql.functions import col, sum as spark_sum\n",
        "from pyspark.sql.functions import to_date\n",
        "from pyspark.sql.functions import regexp_replace, split\n",
        "from pyspark.sql.functions import *\n",
        "from pyspark.sql.functions import min, max, col, date_format"
      ],
      "metadata": {
        "id": "G6fPkghUvO4Y"
      },
      "execution_count": 56,
      "outputs": []
    },
    {
      "cell_type": "code",
      "source": [
        "# Importando Bibliotecas para Visualização de dados\n",
        "import seaborn as sns\n",
        "import matplotlib.pyplot as plt\n",
        "import plotly.express as px"
      ],
      "metadata": {
        "id": "nxMZV5l6xJt0"
      },
      "execution_count": 57,
      "outputs": []
    },
    {
      "cell_type": "code",
      "source": [
        "# Importação da Biblioteca para acesso ao MongoDB\n",
        "import pymongo\n",
        "from pymongo import MongoClient"
      ],
      "metadata": {
        "id": "S86Ec9PoEpEK"
      },
      "execution_count": 58,
      "outputs": []
    },
    {
      "cell_type": "markdown",
      "source": [
        "# Configuração da Spark Session"
      ],
      "metadata": {
        "id": "VEp0s7iomlg8"
      }
    },
    {
      "cell_type": "code",
      "source": [
        "# Configurando a variável do ambiente da sessão spark\n",
        "spark = (\n",
        "    SparkSession.builder\n",
        "                .master('local')\n",
        "                .appName('etl_spark')\n",
        "                .config('spark.ui.port','4050')\n",
        "                .getOrCreate()\n",
        ")"
      ],
      "metadata": {
        "id": "7UdkRLkimtqa"
      },
      "execution_count": 59,
      "outputs": []
    },
    {
      "cell_type": "code",
      "source": [
        "# Verificando a Spark Session\n",
        "spark"
      ],
      "metadata": {
        "id": "4qbeZeeqnFu6"
      },
      "execution_count": null,
      "outputs": []
    },
    {
      "cell_type": "markdown",
      "source": [
        "# Carregamento da Base de Dados"
      ],
      "metadata": {
        "id": "hJZb12I2oCyM"
      }
    },
    {
      "cell_type": "code",
      "source": [
        "# Criando o Dataframe \n",
        "df = (\n",
        "    spark.createDataFrame(pd.read_csv('/content/vaccination-data.csv' ))\n",
        "         \n",
        ")"
      ],
      "metadata": {
        "id": "dpVWKjHEnOey"
      },
      "execution_count": 60,
      "outputs": []
    },
    {
      "cell_type": "code",
      "source": [
        "# Visualização do Dataframe\n",
        "df.show()"
      ],
      "metadata": {
        "id": "OFsTihBPoKGC"
      },
      "execution_count": null,
      "outputs": []
    },
    {
      "cell_type": "markdown",
      "source": [
        "# Backup do Dataframe\n"
      ],
      "metadata": {
        "id": "4ehgVTnkqsoJ"
      }
    },
    {
      "cell_type": "code",
      "source": [
        "df_backup = df"
      ],
      "metadata": {
        "id": "1U6_tZ8yqyGx"
      },
      "execution_count": null,
      "outputs": []
    },
    {
      "cell_type": "markdown",
      "source": [
        "# Pré Análise do Dataframe"
      ],
      "metadata": {
        "id": "kF_oP9mppAIp"
      }
    },
    {
      "cell_type": "code",
      "source": [
        "# Verificando as colunas bem como seus tipos\n",
        "df.printSchema()"
      ],
      "metadata": {
        "id": "gfquygm5pwH4"
      },
      "execution_count": null,
      "outputs": []
    },
    {
      "cell_type": "code",
      "source": [
        "# Verificando o tamanho do dataframe ou quantidade de linhas\n",
        "tamanho = df.count()\n",
        "print(\"O tamanho do DataFrame é:\", tamanho)"
      ],
      "metadata": {
        "id": "svHRarCsqew5"
      },
      "execution_count": null,
      "outputs": []
    },
    {
      "cell_type": "code",
      "source": [
        "# Verificando o resumo estatístico do dataframe, ou seja, um resumo geral dos registros presentes em cada coluna\n",
        "df.summary().show()"
      ],
      "metadata": {
        "id": "ZTZelcSDrybA"
      },
      "execution_count": null,
      "outputs": []
    },
    {
      "cell_type": "code",
      "source": [
        "# Verificando a quantidade de linhas duplicadas\n",
        "total_linhas = df.count()\n",
        "total_linhas_distintas = df.distinct().count()\n",
        "print(total_linhas - total_linhas_distintas)\n",
        "# Com podemos observar o dataframe não possui linhas duplicadas"
      ],
      "metadata": {
        "id": "UE81nph0sxoB"
      },
      "execution_count": null,
      "outputs": []
    },
    {
      "cell_type": "code",
      "source": [
        "# Verificando a quantidade de valores nulos em cada coluna\n",
        "quantidade_nulos = df.select([spark_sum(col(coluna).isNull().cast(\"int\")).alias(coluna) for coluna in df.columns])\n",
        "# Exibindo a quantidade de valores nulos em cada coluna\n",
        "quantidade_nulos.show()"
      ],
      "metadata": {
        "id": "Arbfg_5KvFyP"
      },
      "execution_count": null,
      "outputs": []
    },
    {
      "cell_type": "code",
      "source": [
        "# Exibindo os tipos de cada coluna\n",
        "df.dtypes"
      ],
      "metadata": {
        "id": "4qUTkshiwgEZ"
      },
      "execution_count": null,
      "outputs": []
    },
    {
      "cell_type": "markdown",
      "source": [
        "# Tratamento da Base de Dados"
      ],
      "metadata": {
        "id": "m0VDixoUv09J"
      }
    },
    {
      "cell_type": "code",
      "source": [
        "df.show()"
      ],
      "metadata": {
        "id": "FXW_-QRGwakw"
      },
      "execution_count": null,
      "outputs": []
    },
    {
      "cell_type": "code",
      "source": [
        "# Convertendo as colunas 'DATE_UPDATED' e 'FIRST_VACCINE_DATE' para o tipo date\n",
        "df1 = df.withColumn(\"data_ultima_atualizacao\", to_date(\"DATE_UPDATED\", \"yyyy-MM-dd\"))\n",
        "df2 = df1.withColumn(\"data_inicio_vacinacao\", to_date(\"FIRST_VACCINE_DATE\", \"yyyy-MM-dd\"))"
      ],
      "metadata": {
        "id": "twDZWR4Av98J"
      },
      "execution_count": null,
      "outputs": []
    },
    {
      "cell_type": "code",
      "source": [
        "# Drop das colunas 'DATE_UPDATED' e 'FIRST_VACCINE_DATE' pois ja foram convertidas para o formato date com a criação das colunas anteriormente\n",
        "df3 = df2.drop(\"DATE_UPDATED\")\n",
        "df4 = df3.drop(\"FIRST_VACCINE_DATE\")"
      ],
      "metadata": {
        "id": "b0Egig-o1Ml5"
      },
      "execution_count": null,
      "outputs": []
    },
    {
      "cell_type": "code",
      "source": [
        "# Renomeação e tradução das colunas com o objetivo de facilitar a compreensão dos dados do dataframe\n",
        "df5 = df4.toDF(*['pais', 'codigo_pais', 'escritorio_oms', 'fonte_dos_dados', 'total_cumulativo_doses_vacina', \n",
        "                 'cumulativo_de_pessoas_com_uma_dose', 'cumulativo_de_doses_por_100hab', \n",
        "                 'cumulativo_de_pessoas_com_uma_dose_por_100hab', 'cumulativo_de_pessoas_totalmente_vacinadas',\n",
        "                 'cumulativo_de_pessoas_totalmente_vacinadas_por_100hab', 'vacinas_usadas', 'numero_de_tipos_de_vacina_usados',\n",
        "                 'pessoas_com_dose_adicional', 'pessoas_com_dose_adicional_por_100hab', 'data_ultima_atualizacao', 'data_inicio_vacinacao'])\n",
        "df5.show()"
      ],
      "metadata": {
        "id": "IaH2wPqc20N3"
      },
      "execution_count": null,
      "outputs": []
    },
    {
      "cell_type": "code",
      "source": [
        "# Obtendo todos os dados da coluna \"pais\" como uma lista com o objetivo de exibir todos os países presentes e traduzi-los\n",
        "dados_coluna = df5.select(\"pais\").collect()"
      ],
      "metadata": {
        "id": "2E8G9leyBGV8"
      },
      "execution_count": null,
      "outputs": []
    },
    {
      "cell_type": "code",
      "source": [
        "# Exibindo todos os dados da coluna\n",
        "for row in dados_coluna:\n",
        "    print(row[0])"
      ],
      "metadata": {
        "id": "JfXlKKCZBK1u"
      },
      "execution_count": null,
      "outputs": []
    },
    {
      "cell_type": "code",
      "source": [
        "# Renomeação e tradução dos registros da coluna país\n",
        "df6 = df5.withColumn(\"pais\", regexp_replace(\"pais\",\"Afghanistan\",\"Afeganistão\")) \\\n",
        "                 .withColumn(\"pais\", regexp_replace(\"pais\",\"Albania\",\"Albânia\")) \\\n",
        "                 .withColumn(\"pais\", regexp_replace(\"pais\",\"Algeria\",\"Argélia\")) \\\n",
        "                 .withColumn(\"pais\", regexp_replace(\"pais\",\"American Samoa\",\"Samoa Americana\")) \\\n",
        "                 .withColumn(\"pais\", regexp_replace(\"pais\",\"Andorra\",\"Andorra\")) \\\n",
        "                 .withColumn(\"pais\", regexp_replace(\"pais\",\"Angola\",\"Angola\")) \\\n",
        "                 .withColumn(\"pais\", regexp_replace(\"pais\",\"Anguilla\",\"Anguilla\")) \\\n",
        "                 .withColumn(\"pais\", regexp_replace(\"pais\",\"Antigua and Barbuda\",\"Antígua e Barbuda\")) \\\n",
        "                 .withColumn(\"pais\", regexp_replace(\"pais\",\"Croatia\",\"Croácia\")) \\\n",
        "                 .withColumn(\"pais\", regexp_replace(\"pais\",\"Argentina\",\"Argentina\")) \\\n",
        "                 .withColumn(\"pais\", regexp_replace(\"pais\",\"Armenia\",\"Armênia\")) \\\n",
        "                 .withColumn(\"pais\", regexp_replace(\"pais\",\"Aruba\",\"Aruba\")) \\\n",
        "                 .withColumn(\"pais\", regexp_replace(\"pais\",\"Australia\",\"Austrália\")) \\\n",
        "                 .withColumn(\"pais\", regexp_replace(\"pais\",\"Austria\",\"Áustria\")) \\\n",
        "                 .withColumn(\"pais\", regexp_replace(\"pais\",\"Azerbaijan\",\"Azerbaijão\")) \\\n",
        "                 .withColumn(\"pais\", regexp_replace(\"pais\",\"Bahamas\",\"Bahamas\")) \\\n",
        "                 .withColumn(\"pais\", regexp_replace(\"pais\",\"Bahrain\",\"Bahrein\")) \\\n",
        "                 .withColumn(\"pais\", regexp_replace(\"pais\",\"Bangladesh\",\"Bangladesh\")) \\\n",
        "                 .withColumn(\"pais\", regexp_replace(\"pais\",\"Barbados\",\"Barbados\")) \\\n",
        "                 .withColumn(\"pais\", regexp_replace(\"pais\",\"Belarus\",\"Bielorrússia\")) \\\n",
        "                 .withColumn(\"pais\", regexp_replace(\"pais\",\"Belgium\",\"Bélgica\")) \\\n",
        "                 .withColumn(\"pais\", regexp_replace(\"pais\",\"Belize\",\"Belize\")) \\\n",
        "                 .withColumn(\"pais\", regexp_replace(\"pais\",\"Benin\",\"Benin\")) \\\n",
        "                 .withColumn(\"pais\", regexp_replace(\"pais\",\"Bermuda\",\"Bermuda\")) \\\n",
        "                 .withColumn(\"pais\", regexp_replace(\"pais\",\"Bhutan\",\"Butão\")) \\\n",
        "                 .withColumn(\"pais\", regexp_replace(\"pais\",\"Bolivia (Plurinational State of)\",\"Bolívia\")) \\\n",
        "                 .withColumn(\"pais\", regexp_replace(\"pais\",\"Bonaire\",\"Bonaire\")) \\\n",
        "                 .withColumn(\"pais\", regexp_replace(\"pais\",\"Bonaire, Sint Eustatius and Saba\",\"Bonaire, Sint Eustatius and Saba\")) \\\n",
        "                 .withColumn(\"pais\", regexp_replace(\"pais\",\"Bosnia and Herzegovina\",\"Bósnia e Herzegovina\")) \\\n",
        "                 .withColumn(\"pais\", regexp_replace(\"pais\",\"Botswana\",\"Botsuana\")) \\\n",
        "                 .withColumn(\"pais\", regexp_replace(\"pais\",\"Brazil\",\"Brasil\")) \\\n",
        "                 .withColumn(\"pais\", regexp_replace(\"pais\",\"British Virgin Islands\",\"Ilhas Virgens Britânicas\")) \\\n",
        "                 .withColumn(\"pais\", regexp_replace(\"pais\",\"Brunei Darussalam\",\"Brunei Darussalam\")) \\\n",
        "                 .withColumn(\"pais\", regexp_replace(\"pais\",\"Bulgaria\",\"Bulgária\")) \\\n",
        "                 .withColumn(\"pais\", regexp_replace(\"pais\",\"Burkina Faso\",\"Burkina Faso\")) \\\n",
        "                 .withColumn(\"pais\", regexp_replace(\"pais\",\"Burundi\",\"Burundi\")) \\\n",
        "                 .withColumn(\"pais\", regexp_replace(\"pais\",\"Cabo Verde\",\"Cabo Verde\")) \\\n",
        "                 .withColumn(\"pais\", regexp_replace(\"pais\",\"Cambodia\",\"Cambodja\")) \\\n",
        "                 .withColumn(\"pais\", regexp_replace(\"pais\",\"Cameroon\",\"Camarões\")) \\\n",
        "                 .withColumn(\"pais\", regexp_replace(\"pais\",\"Argentina\",\"Argentina\")) \\\n",
        "                 .withColumn(\"pais\", regexp_replace(\"pais\",\"Canada\",\"Canadá\")) \\\n",
        "                 .withColumn(\"pais\", regexp_replace(\"pais\",\"Cayman Islands\",\"Ilhas Cayman\")) \\\n",
        "                 .withColumn(\"pais\", regexp_replace(\"pais\",\"Central African Republic\",\"República Centro-Africana\")) \\\n",
        "                 .withColumn(\"pais\", regexp_replace(\"pais\",\"Austria\",\"Áustria\")) \\\n",
        "                 .withColumn(\"pais\", regexp_replace(\"pais\",\"Chad\",\"Chade\")) \\\n",
        "                 .withColumn(\"pais\", regexp_replace(\"pais\",\"Chile\",\"Chile\")) \\\n",
        "                 .withColumn(\"pais\", regexp_replace(\"pais\",\"China\",\"China\")) \\\n",
        "                 .withColumn(\"pais\", regexp_replace(\"pais\",\"Colombia\",\"Colômbia\")) \\\n",
        "                 .withColumn(\"pais\", regexp_replace(\"pais\",\"Comoros\",\"Comores\")) \\\n",
        "                 .withColumn(\"pais\", regexp_replace(\"pais\",\"Congo\",\"Congo\")) \\\n",
        "                 .withColumn(\"pais\", regexp_replace(\"pais\",\"Cook Islands\",\"Ilhas Cook\")) \\\n",
        "                 .withColumn(\"pais\", regexp_replace(\"pais\",\"Costa Rica\",\"Costa Rica\")) \\\n",
        "                 .withColumn(\"pais\", regexp_replace(\"pais\",\"Côte d’Ivoire\",\"Costa do Marfim\")) \\\n",
        "                 .withColumn(\"pais\", regexp_replace(\"pais\",\"Bermuda\",\"Bermuda\")) \\\n",
        "                 .withColumn(\"pais\", regexp_replace(\"pais\",\"Croatia\",\"Croácia\")) \\\n",
        "                 .withColumn(\"pais\", regexp_replace(\"pais\",\"Cuba\",\"Cuba\")) \\\n",
        "                 .withColumn(\"pais\", regexp_replace(\"pais\",\"Curaçao\",\"Curaçao\")) \\\n",
        "                 .withColumn(\"pais\", regexp_replace(\"pais\",\"Cyprus\",\"Chipre\")) \\\n",
        "                 .withColumn(\"pais\", regexp_replace(\"pais\",\"Czechia\",\"República Tcheca\")) \\\n",
        "                 .withColumn(\"pais\", regexp_replace(\"pais\",\"Democratic Republic of the Congo\",\"República Democrática do Congo\")) \\\n",
        "                 .withColumn(\"pais\", regexp_replace(\"pais\",\"Denmark\",\"Dinamarca\")) \\\n",
        "                 .withColumn(\"pais\", regexp_replace(\"pais\",\"Djibouti\",\"Djibouti\")) \\\n",
        "                 .withColumn(\"pais\", regexp_replace(\"pais\",\"Dominica\",\"Dominica\")) \\\n",
        "                 .withColumn(\"pais\", regexp_replace(\"pais\",\"Dominican Republic\",\"República Dominicana\")) \\\n",
        "                 .withColumn(\"pais\", regexp_replace(\"pais\",\"Ecuador\",\"Equador\")) \\\n",
        "                 .withColumn(\"pais\", regexp_replace(\"pais\",\"Egypt\",\"Egito\")) \\\n",
        "                 .withColumn(\"pais\", regexp_replace(\"pais\",\"El Salvador\",\"El Salvador\")) \\\n",
        "                 .withColumn(\"pais\", regexp_replace(\"pais\",\"Equatorial Guinea\",\"Guiné Equatorial\")) \\\n",
        "                 .withColumn(\"pais\", regexp_replace(\"pais\",\"Eritrea\",\"Eritreia\")) \\\n",
        "                 .withColumn(\"pais\", regexp_replace(\"pais\",\"Estonia\",\"Estônia\")) \\\n",
        "                 .withColumn(\"pais\", regexp_replace(\"pais\",\"Eswatini\",\"Essuatíni\")) \\\n",
        "                 .withColumn(\"pais\", regexp_replace(\"pais\",\"Ethiopia\",\"Etiópia\")) \\\n",
        "                 .withColumn(\"pais\", regexp_replace(\"pais\",\"Falkland Islands (Malvinas)\",\"Ilhas Falkland (Malvinas)\")) \\\n",
        "                 .withColumn(\"pais\", regexp_replace(\"pais\",\"Faroe Islands\",\"Ilhas Faroe\")) \\\n",
        "                 .withColumn(\"pais\", regexp_replace(\"pais\",\"Fiji\",\"Fiji\")) \\\n",
        "                 .withColumn(\"pais\", regexp_replace(\"pais\",\"Finland\",\"Finlândia\")) \\\n",
        "                 .withColumn(\"pais\", regexp_replace(\"pais\",\"France\",\"França\")) \\\n",
        "                 .withColumn(\"pais\", regexp_replace(\"pais\",\"French Guiana\",\"Guiana Francesa\")) \\\n",
        "                 .withColumn(\"pais\", regexp_replace(\"pais\",\"French Polynesia\",\"Polinésia Francesa\")) \\\n",
        "                 .withColumn(\"pais\", regexp_replace(\"pais\",\"Gabon\",\"Gabão\")) \\\n",
        "                 .withColumn(\"pais\", regexp_replace(\"pais\",\"Gambia\",\"Gâmbia\")) \\\n",
        "                 .withColumn(\"pais\", regexp_replace(\"pais\",\"Georgia\",\"Geórgia\")) \\\n",
        "                 .withColumn(\"pais\", regexp_replace(\"pais\",\"Germany\",\"Alemanha\")) \\\n",
        "                 .withColumn(\"pais\", regexp_replace(\"pais\",\"Ghana\",\"Gana\")) \\\n",
        "                 .withColumn(\"pais\", regexp_replace(\"pais\",\"Gibraltar\",\"Gibraltar\")) \\\n",
        "                 .withColumn(\"pais\", regexp_replace(\"pais\",\"Greece\",\"Grécia\")) \\\n",
        "                 .withColumn(\"pais\", regexp_replace(\"pais\",\"Greenland\",\"Groenlândia\")) \\\n",
        "                 .withColumn(\"pais\", regexp_replace(\"pais\",\"Grenada\",\"Granada\")) \\\n",
        "                 .withColumn(\"pais\", regexp_replace(\"pais\",\"Guadeloupe\",\"Guadalupe\")) \\\n",
        "                 .withColumn(\"pais\", regexp_replace(\"pais\",\"Guam\",\"Guam\")) \\\n",
        "                 .withColumn(\"pais\", regexp_replace(\"pais\",\"Guatemala\",\"Guatemala\")) \\\n",
        "                 .withColumn(\"pais\", regexp_replace(\"pais\",\"Guernsey\",\"Guernsey\")) \\\n",
        "                 .withColumn(\"pais\", regexp_replace(\"pais\",\"Guinea\",\"Guiné\")) \\\n",
        "                 .withColumn(\"pais\", regexp_replace(\"pais\",\"Guinea-Bissau\",\"Guiné-Bissau\")) \\\n",
        "                 .withColumn(\"pais\", regexp_replace(\"pais\",\"Guyana\",\"Guiana\")) \\\n",
        "                 .withColumn(\"pais\", regexp_replace(\"pais\",\"Haiti\",\"Haiti\")) \\\n",
        "                 .withColumn(\"pais\", regexp_replace(\"pais\",\"Honduras\",\"Honduras\")) \\\n",
        "                 .withColumn(\"pais\", regexp_replace(\"pais\",\"Hungary\",\"Hungria\")) \\\n",
        "                 .withColumn(\"pais\", regexp_replace(\"pais\",\"Iceland\",\"Islândia\")) \\\n",
        "                 .withColumn(\"pais\", regexp_replace(\"pais\",\"India\",\"Índia\")) \\\n",
        "                 .withColumn(\"pais\", regexp_replace(\"pais\",\"Indonesia\",\"Indonésia\")) \\\n",
        "                 .withColumn(\"pais\", regexp_replace(\"pais\",\"Iran (Islamic Republic of)\",\"Irã\")) \\\n",
        "                 .withColumn(\"pais\", regexp_replace(\"pais\",\"Iraq\",\"Iraque\")) \\\n",
        "                 .withColumn(\"pais\", regexp_replace(\"pais\",\"Ireland\",\"Irlanda\")) \\\n",
        "                 .withColumn(\"pais\", regexp_replace(\"pais\",\"Isle of Man\",\"Ilha de Man\")) \\\n",
        "                 .withColumn(\"pais\", regexp_replace(\"pais\",\"Israel\",\"Israel\")) \\\n",
        "                 .withColumn(\"pais\", regexp_replace(\"pais\",\"Italy\",\"Itália\")) \\\n",
        "                 .withColumn(\"pais\", regexp_replace(\"pais\",\"Jamaica\",\"Jamaica\")) \\\n",
        "                 .withColumn(\"pais\", regexp_replace(\"pais\",\"Japan\",\"Japão\")) \\\n",
        "                 .withColumn(\"pais\", regexp_replace(\"pais\",\"Jersey\",\"Jersey\")) \\\n",
        "                 .withColumn(\"pais\", regexp_replace(\"pais\",\"Jordan\",\"Jordânia\")) \\\n",
        "                 .withColumn(\"pais\", regexp_replace(\"pais\",\"Kazakhstan\",\"Cazaquistão\")) \\\n",
        "                 .withColumn(\"pais\", regexp_replace(\"pais\",\"Kenya\",\"Quênia\")) \\\n",
        "                 .withColumn(\"pais\", regexp_replace(\"pais\",\"Kiribati\",\"Kiribati\")) \\\n",
        "                 .withColumn(\"pais\", regexp_replace(\"pais\",\"Kosovo\",\"Kosovo\")) \\\n",
        "                 .withColumn(\"pais\", regexp_replace(\"pais\",\"Kuwait\",\"Kuwait\")) \\\n",
        "                 .withColumn(\"pais\", regexp_replace(\"pais\",\"Kyrgyzstan\",\"Quirguistão\"))"
      ],
      "metadata": {
        "id": "xM1gfyMgjnTf"
      },
      "execution_count": null,
      "outputs": []
    },
    {
      "cell_type": "code",
      "source": [
        "df7 = df6.withColumn(\"pais\", regexp_replace(\"pais\",\"Lao People's Democratic Republic\",\"República Democrática Popular do Laos\")) \\\n",
        "                 .withColumn(\"pais\", regexp_replace(\"pais\",\"Latvia\",\"Letônia\")) \\\n",
        "                 .withColumn(\"pais\", regexp_replace(\"pais\",\"Lebanon\",\"Líbano\")) \\\n",
        "                 .withColumn(\"pais\", regexp_replace(\"pais\",\"Lesotho\",\"Lesoto\")) \\\n",
        "                 .withColumn(\"pais\", regexp_replace(\"pais\",\"Liberia\",\"Libéria\")) \\\n",
        "                 .withColumn(\"pais\", regexp_replace(\"pais\",\"Libya\",\"Líbia\")) \\\n",
        "                 .withColumn(\"pais\", regexp_replace(\"pais\",\"Liechtenstein\",\"Liechtenstein\")) \\\n",
        "                 .withColumn(\"pais\", regexp_replace(\"pais\",\"Lithuania\",\"Lituânia\")) \\\n",
        "                 .withColumn(\"pais\", regexp_replace(\"pais\",\"Luxembourg\",\"Luxemburgo\")) \\\n",
        "                 .withColumn(\"pais\", regexp_replace(\"pais\",\"Madagascar\",\"Madagascar\")) \\\n",
        "                 .withColumn(\"pais\", regexp_replace(\"pais\",\"Malawi\",\"Malawi\")) \\\n",
        "                 .withColumn(\"pais\", regexp_replace(\"pais\",\"Malaysia\",\"Malásia\")) \\\n",
        "                 .withColumn(\"pais\", regexp_replace(\"pais\",\"Maldives\",\"Maldivas\")) \\\n",
        "                 .withColumn(\"pais\", regexp_replace(\"pais\",\"Mali\",\"Mali\")) \\\n",
        "                 .withColumn(\"pais\", regexp_replace(\"pais\",\"Malta\",\"Malta\")) \\\n",
        "                 .withColumn(\"pais\", regexp_replace(\"pais\",\"Marshall Islands\",\"Ilhas Marshall\")) \\\n",
        "                 .withColumn(\"pais\", regexp_replace(\"pais\",\"Martinique\",\"Martinica\")) \\\n",
        "                 .withColumn(\"pais\", regexp_replace(\"pais\",\"Mauritania\",\"Mauritânia\")) \\\n",
        "                 .withColumn(\"pais\", regexp_replace(\"pais\",\"Mauritius\",\"Maurício\")) \\\n",
        "                 .withColumn(\"pais\", regexp_replace(\"pais\",\"Mexico\",\"México\")) \\\n",
        "                 .withColumn(\"pais\", regexp_replace(\"pais\",\"Micronesia (Federated States of)\",\"Micronésia\")) \\\n",
        "                 .withColumn(\"pais\", regexp_replace(\"pais\",\"Monaco\",\"Mônaco\")) \\\n",
        "                 .withColumn(\"pais\", regexp_replace(\"pais\",\"Mongolia\",\"Mongólia\")) \\\n",
        "                 .withColumn(\"pais\", regexp_replace(\"pais\",\"Montenegro\",\"Montenegro\")) \\\n",
        "                 .withColumn(\"pais\", regexp_replace(\"pais\",\"Montserrat\",\"Montserrat\")) \\\n",
        "                 .withColumn(\"pais\", regexp_replace(\"pais\",\"Morocco\",\"Marrocos\")) \\\n",
        "                 .withColumn(\"pais\", regexp_replace(\"pais\",\"Mozambique\",\"Moçambique\")) \\\n",
        "                 .withColumn(\"pais\", regexp_replace(\"pais\",\"Myanmar\",\"Mianmar\")) \\\n",
        "                 .withColumn(\"pais\", regexp_replace(\"pais\",\"Namibia\",\"Namíbia\")) \\\n",
        "                 .withColumn(\"pais\", regexp_replace(\"pais\",\"Nauru\",\"Nauru\")) \\\n",
        "                 .withColumn(\"pais\", regexp_replace(\"pais\",\"Nepal\",\"Nepal\")) \\\n",
        "                 .withColumn(\"pais\", regexp_replace(\"pais\",\"Netherlands\",\"Holanda\")) \\\n",
        "                 .withColumn(\"pais\", regexp_replace(\"pais\",\"New Caledonia\",\"Nova Caledônia\")) \\\n",
        "                 .withColumn(\"pais\", regexp_replace(\"pais\",\"New Zealand\",\"Nova Zelândia\")) \\\n",
        "                 .withColumn(\"pais\", regexp_replace(\"pais\",\"Nicaragua\",\"Nicarágua\")) \\\n",
        "                 .withColumn(\"pais\", regexp_replace(\"pais\",\"Niger\",\"Níger\")) \\\n",
        "                 .withColumn(\"pais\", regexp_replace(\"pais\",\"Nigeria\",\"Nigéria\")) \\\n",
        "                 .withColumn(\"pais\", regexp_replace(\"pais\",\"Niue\",\"Niue\")) \\\n",
        "                 .withColumn(\"pais\", regexp_replace(\"pais\",\"North Macedonia\",\"Macedônia do Norte\")) \\\n",
        "                 .withColumn(\"pais\", regexp_replace(\"pais\",\"Northern Mariana Islands (Commonwealth of the)\",\"Ilhas Marianas do Norte\")) \\\n",
        "                 .withColumn(\"pais\", regexp_replace(\"pais\",\"Norway\",\"Noruega\")) \\\n",
        "                 .withColumn(\"pais\", regexp_replace(\"pais\",\"occupied Palestinian territory\",\"Território palestino ocupado\")) \\\n",
        "                 .withColumn(\"pais\", regexp_replace(\"pais\",\"Oman\",\"Omã\")) \\\n",
        "                 .withColumn(\"pais\", regexp_replace(\"pais\",\"Pakistan\",\"Paquistão\")) \\\n",
        "                 .withColumn(\"pais\", regexp_replace(\"pais\",\"Palau\",\"Palau\")) \\\n",
        "                 .withColumn(\"pais\", regexp_replace(\"pais\",\"Panama\",\"Panamá\")) \\\n",
        "                 .withColumn(\"pais\", regexp_replace(\"pais\",\"Papua New Guinea\",\"Papua Nova Guiné\")) \\\n",
        "                 .withColumn(\"pais\", regexp_replace(\"pais\",\"Paraguay\",\"Paraguai\")) \\\n",
        "                 .withColumn(\"pais\", regexp_replace(\"pais\",\"Peru\",\"Peru\")) \\\n",
        "                 .withColumn(\"pais\", regexp_replace(\"pais\",\"Philippines\",\"Filipinas\")) \\\n",
        "                 .withColumn(\"pais\", regexp_replace(\"pais\",\"Pitcairn Islands\",\"Ilhas Pitcairn\")) \\\n",
        "                 .withColumn(\"pais\", regexp_replace(\"pais\",\"Poland\",\"Polônia\")) \\\n",
        "                 .withColumn(\"pais\", regexp_replace(\"pais\",\"Portugal\",\"Portugal\")) \\\n",
        "                 .withColumn(\"pais\", regexp_replace(\"pais\",\"Puerto Rico\",\"Porto Rico\")) \\\n",
        "                 .withColumn(\"pais\", regexp_replace(\"pais\",\"Qatar\",\"Catar\")) \\\n",
        "                 .withColumn(\"pais\", regexp_replace(\"pais\",\"Republic of Korea\",\"República da Coréia\")) \\\n",
        "                 .withColumn(\"pais\", regexp_replace(\"pais\",\"Republic of Moldova\",\"República da Moldávia\")) \\\n",
        "                 .withColumn(\"pais\", regexp_replace(\"pais\",\"Romania\",\"Romênia\")) \\\n",
        "                 .withColumn(\"pais\", regexp_replace(\"pais\",\"Russian Federation\",\"Federação Russa\")) \\\n",
        "                 .withColumn(\"pais\", regexp_replace(\"pais\",\"Rwanda\",\"Ruanda\")) \\\n",
        "                 .withColumn(\"pais\", regexp_replace(\"pais\",\"Saba\",\"Sabá\")) \\\n",
        "                 .withColumn(\"pais\", regexp_replace(\"pais\",\"Saint Helena, Ascension and Tristan da Cunha\",\"Santa Helena, Ascensão e Tristão da Cunha\")) \\\n",
        "                 .withColumn(\"pais\", regexp_replace(\"pais\",\"Saint Kitts and Nevis\",\"São Cristóvão e Névis\")) \\\n",
        "                 .withColumn(\"pais\", regexp_replace(\"pais\",\"Saint Lucia\",\"Santa Lúcia\")) \\\n",
        "                 .withColumn(\"pais\", regexp_replace(\"pais\",\"Saint Vincent and the Grenadines\",\"São Vicente e Granadinas\")) \\\n",
        "                 .withColumn(\"pais\", regexp_replace(\"pais\",\"Samoa\",\"Samoa\")) \\\n",
        "                 .withColumn(\"pais\", regexp_replace(\"pais\",\"San Marino\",\"San Marino\")) \\\n",
        "                 .withColumn(\"pais\", regexp_replace(\"pais\",\"Sao Tome and Principe\",\"São Tomé e Príncipe\")) \\\n",
        "                 .withColumn(\"pais\", regexp_replace(\"pais\",\"Saudi Arabia\",\"Arábia Saudita\")) \\\n",
        "                 .withColumn(\"pais\", regexp_replace(\"pais\",\"Senegal\",\"Senegal\")) \\\n",
        "                 .withColumn(\"pais\", regexp_replace(\"pais\",\"Serbia\",\"Sérvia\")) \\\n",
        "                 .withColumn(\"pais\", regexp_replace(\"pais\",\"Seychelles\",\"Seychelles\")) \\\n",
        "                 .withColumn(\"pais\", regexp_replace(\"pais\",\"Sierra Leone\",\"Serra Leoa\")) \\\n",
        "                 .withColumn(\"pais\", regexp_replace(\"pais\",\"Singapore\",\"Singapura\")) \\\n",
        "                 .withColumn(\"pais\", regexp_replace(\"pais\",\"Sint Eustatius\",\"Santo Eustáquio\")) \\\n",
        "                 .withColumn(\"pais\", regexp_replace(\"pais\",\"Sint Maarten\",\"São Martinho\")) \\\n",
        "                 .withColumn(\"pais\", regexp_replace(\"pais\",\"Slovakia\",\"Eslováquia\")) \\\n",
        "                 .withColumn(\"pais\", regexp_replace(\"pais\",\"Slovenia\",\"Eslovênia\")) \\\n",
        "                 .withColumn(\"pais\", regexp_replace(\"pais\",\"Solomon Islands\",\"Ilhas Salomão\")) \\\n",
        "                 .withColumn(\"pais\", regexp_replace(\"pais\",\"Somalia\",\"Somália\")) \\\n",
        "                 .withColumn(\"pais\", regexp_replace(\"pais\",\"South Africa\",\"África do Sul\")) \\\n",
        "                 .withColumn(\"pais\", regexp_replace(\"pais\",\"South Sudan\",\"Sudão do Sul\")) \\\n",
        "                 .withColumn(\"pais\", regexp_replace(\"pais\",\"Spain\",\"Espanha\")) \\\n",
        "                 .withColumn(\"pais\", regexp_replace(\"pais\",\"Sri Lanka\",\"Sri Lanka\")) \\\n",
        "                 .withColumn(\"pais\", regexp_replace(\"pais\",\"Sudan\",\"Sudão\")) \\\n",
        "                 .withColumn(\"pais\", regexp_replace(\"pais\",\"Suriname\",\"Suriname\")) \\\n",
        "                 .withColumn(\"pais\", regexp_replace(\"pais\",\"Sweden\",\"Suécia\")) \\\n",
        "                 .withColumn(\"pais\", regexp_replace(\"pais\",\"Switzerland\",\"Suíça\")) \\\n",
        "                 .withColumn(\"pais\", regexp_replace(\"pais\",\"Syrian Arab Republic\",\"República Árabe da Síria\")) \\\n",
        "                 .withColumn(\"pais\", regexp_replace(\"pais\",\"Tajikistan\",\"Tajiquistão\")) \\\n",
        "                 .withColumn(\"pais\", regexp_replace(\"pais\",\"Thailand\",\"Tailândia\")) \\\n",
        "                 .withColumn(\"pais\", regexp_replace(\"pais\",\"The United Kingdom\",\"Reino Unido\")) \\\n",
        "                 .withColumn(\"pais\", regexp_replace(\"pais\",\"Timor-Leste\",\"Timor-Leste\")) \\\n",
        "                 .withColumn(\"pais\", regexp_replace(\"pais\",\"Togo\",\"Togo\")) \\\n",
        "                 .withColumn(\"pais\", regexp_replace(\"pais\",\"Tokelau\",\"Tokelau\")) \\\n",
        "                 .withColumn(\"pais\", regexp_replace(\"pais\",\"Tonga\",\"Tonga\")) \\\n",
        "                 .withColumn(\"pais\", regexp_replace(\"pais\",\"Trinidad and Tobago\",\"Trinidad e Tobago\")) \\\n",
        "                 .withColumn(\"pais\", regexp_replace(\"pais\",\"Tunisia\",\"Tunísia\")) \\\n",
        "                 .withColumn(\"pais\", regexp_replace(\"pais\",\"Turkey\",\"Turquia\")) \\\n",
        "                 .withColumn(\"pais\", regexp_replace(\"pais\",\"Turkmenistan\",\"Turcomenistão\")) \\\n",
        "                 .withColumn(\"pais\", regexp_replace(\"pais\",\"Turks and Caicos Islands\",\"Ilhas Turks e Caicos\")) \\\n",
        "                 .withColumn(\"pais\", regexp_replace(\"pais\",\"Tuvalu\",\"Tuvalu\")) \\\n",
        "                 .withColumn(\"pais\", regexp_replace(\"pais\",\"Uganda\",\"Uganda\")) \\\n",
        "                 .withColumn(\"pais\", regexp_replace(\"pais\",\"Ukraine\",\"Ucrânia\")) \\\n",
        "                 .withColumn(\"pais\", regexp_replace(\"pais\",\"United Arab Emirates\",\"Emirados Árabes Unidos\")) \\\n",
        "                 .withColumn(\"pais\", regexp_replace(\"pais\",\"United Republic of Tanzania\",\"República Unida da Tanzânia\")) \\\n",
        "                 .withColumn(\"pais\", regexp_replace(\"pais\",\"United States of America\",\"Estados Unidos da América\")) \\\n",
        "                 .withColumn(\"pais\", regexp_replace(\"pais\",\"Uruguay\",\"Uruguai\")) \\\n",
        "                 .withColumn(\"pais\", regexp_replace(\"pais\",\"Uzbekistan\",\"Uzbequistão\")) \\\n",
        "                 .withColumn(\"pais\", regexp_replace(\"pais\",\"Vanuatu\",\"Vanuatu\")) \\\n",
        "                 .withColumn(\"pais\", regexp_replace(\"pais\",\"Venezuela (Bolivarian Republic of)\",\"Venezuela\")) \\\n",
        "                 .withColumn(\"pais\", regexp_replace(\"pais\",\"Viet Nam\",\"Vietnã\")) \\\n",
        "                 .withColumn(\"pais\", regexp_replace(\"pais\",\"Wallis and Futuna\",\"Wallis e Futuna\")) \\\n",
        "                 .withColumn(\"pais\", regexp_replace(\"pais\",\"Yemen\",\"Iêmen\")) \\\n",
        "                 .withColumn(\"pais\", regexp_replace(\"pais\",\"Zambia\",\"Zâmbia\")) \\\n",
        "                 .withColumn(\"pais\", regexp_replace(\"pais\",\"Zimbabwe\",\"Zimbábue\"))"
      ],
      "metadata": {
        "id": "Pi-WG2z81_pb"
      },
      "execution_count": null,
      "outputs": []
    },
    {
      "cell_type": "code",
      "source": [
        "# Drop da coluna \"codigo_pais\" pois se torna irrelevante já que a própria coluna \"país\" ja possui \n",
        "# registros identificando de qual país se tratam os dados\n",
        "df8 = df7.drop(\"codigo_pais\")"
      ],
      "metadata": {
        "id": "5Yu8gUVB5dMx"
      },
      "execution_count": null,
      "outputs": []
    },
    {
      "cell_type": "code",
      "source": [
        "# Ordenação de colunas do Dataframe com o objetivo de facilitar o entendimento dos dados\n",
        "df9 = df8.select(col(\"pais\"), col(\"escritorio_oms\"), col(\"fonte_dos_dados\"), col(\"data_ultima_atualizacao\"), col(\"data_inicio_vacinacao\"), col(\"total_cumulativo_doses_vacina\"), \n",
        "                 col(\"cumulativo_de_doses_por_100hab\"), col(\"cumulativo_de_pessoas_com_uma_dose\"), col(\"cumulativo_de_pessoas_com_uma_dose_por_100hab\"), col(\"cumulativo_de_pessoas_totalmente_vacinadas\"), col(\"cumulativo_de_pessoas_totalmente_vacinadas_por_100hab\"), \n",
        "                 col(\"vacinas_usadas\"), col(\"numero_de_tipos_de_vacina_usados\"), col(\"pessoas_com_dose_adicional\"), col(\"pessoas_com_dose_adicional_por_100hab\"))"
      ],
      "metadata": {
        "id": "YctbHCU16jCo"
      },
      "execution_count": null,
      "outputs": []
    },
    {
      "cell_type": "markdown",
      "source": [
        "# Consultas"
      ],
      "metadata": {
        "id": "j4c7NPv1HNEU"
      }
    },
    {
      "cell_type": "code",
      "source": [
        "# Visualizando a quantidade de registros de cada pais\n",
        "df9.groupBy('pais').count().orderBy(F.col('count').desc()).show(100)"
      ],
      "metadata": {
        "id": "Aqf47iJyHasw"
      },
      "execution_count": null,
      "outputs": []
    },
    {
      "cell_type": "code",
      "source": [
        "# Verificando a quantidade de pessoas totalmente vacinadas por país\n",
        "\n",
        "# Agrupamento por 'pais' e soma dos registros da coluna 'cumulativo_de_pessoas_totalmente_vacinadas'\n",
        "df_grouped = df9.groupBy('pais').sum('cumulativo_de_pessoas_totalmente_vacinadas')\n",
        "\n",
        "# Ordenação de forma decrescente e exibição do DataFrame resultante\n",
        "df_grouped.orderBy(desc('sum(cumulativo_de_pessoas_totalmente_vacinadas)')).show(truncate=False)"
      ],
      "metadata": {
        "id": "GY8EPexVIPnP"
      },
      "execution_count": null,
      "outputs": []
    },
    {
      "cell_type": "code",
      "source": [
        "# Verificando a quantidade de tipos de vacinas utilizadas por país\n",
        "\n",
        "df_grouped2 = df9.groupBy('pais').sum('numero_de_tipos_de_vacina_usados')\n",
        "df_grouped2 = df_grouped2.na.drop()\n",
        "df_grouped2.orderBy(desc('sum(numero_de_tipos_de_vacina_usados)')).show(truncate=False)"
      ],
      "metadata": {
        "id": "ZoueaZrKJ_k9"
      },
      "execution_count": null,
      "outputs": []
    },
    {
      "cell_type": "code",
      "source": [
        "# Verificando os países que iniciaram o período de vacinação primeiro\n",
        "\n",
        "df9.groupBy('pais') \\\n",
        "   .agg(min('data_inicio_vacinacao').alias('min_data_inicio_vacinacao')) \\\n",
        "   .where(col('min_data_inicio_vacinacao').isNotNull()) \\\n",
        "   .orderBy('min_data_inicio_vacinacao') \\\n",
        "   .show(truncate=False)"
      ],
      "metadata": {
        "id": "4WyPAlNuZhgx"
      },
      "execution_count": null,
      "outputs": []
    },
    {
      "cell_type": "code",
      "source": [
        "# Verificando o número total de pessoas com somente uma dose por país, ordenado pela ultima data de atualização\n",
        "\n",
        "df9.groupBy('pais') \\\n",
        "   .agg(sum('cumulativo_de_pessoas_com_uma_dose').alias('total_pessoas_com_uma_dose'),\n",
        "        max('data_ultima_atualizacao').alias('ultima_atualizacao')) \\\n",
        "   .orderBy(desc('ultima_atualizacao')) \\\n",
        "   .show()"
      ],
      "metadata": {
        "id": "9CdZfnv9j_pO"
      },
      "execution_count": null,
      "outputs": []
    },
    {
      "cell_type": "code",
      "source": [
        "# Verificando o número total de pessoas com somente uma dose por país, ordenado pelo número total de pessoas\n",
        "\n",
        "df9.groupBy('pais') \\\n",
        "   .agg(sum('cumulativo_de_pessoas_com_uma_dose').alias('total_pessoas_com_uma_dose'),\n",
        "        max('data_ultima_atualizacao').alias('ultima_atualizacao')) \\\n",
        "   .orderBy(desc('total_pessoas_com_uma_dose')) \\\n",
        "   .show()"
      ],
      "metadata": {
        "id": "OqSzymoSi7J2"
      },
      "execution_count": null,
      "outputs": []
    },
    {
      "cell_type": "markdown",
      "source": [
        "# Conversão de Pyspark para Pandas"
      ],
      "metadata": {
        "id": "axiYYMjdzvWC"
      }
    },
    {
      "cell_type": "code",
      "source": [
        "# Convertendo dataframe tratado para Pandas para etapa de visualização de dados\n",
        "df_pandas = df9.toPandas()\n",
        "# Exibindo os primeiros registros do dataset no Pandas\n",
        "df_pandas.head()"
      ],
      "metadata": {
        "id": "mUvTc2Ihz3cp"
      },
      "execution_count": null,
      "outputs": []
    },
    {
      "cell_type": "code",
      "source": [
        "# Exibindo as duas ultimas linhas do dataset no Pandas\n",
        "df_pandas.tail(2)"
      ],
      "metadata": {
        "id": "snBAFRxA1s2R"
      },
      "execution_count": null,
      "outputs": []
    },
    {
      "cell_type": "markdown",
      "source": [
        "# Visualização de Dados"
      ],
      "metadata": {
        "id": "tY-a33p-128W"
      }
    },
    {
      "cell_type": "code",
      "source": [
        "# Conferindo os tipos das colunas\n",
        "df_pandas.dtypes\n",
        "# é possível observar que as colunas de data passaram para \"object\""
      ],
      "metadata": {
        "id": "UbTc0i_xGlXl"
      },
      "execution_count": null,
      "outputs": []
    },
    {
      "cell_type": "code",
      "source": [
        "# Realizando a conversão das mesmas para o tipo \"date\" para trabalhar nas plotagens da melhor forma\n",
        "df_pandas['data_ultima_atualizacao'] = pd.to_datetime(df_pandas['data_ultima_atualizacao'])\n",
        "df_pandas['data_inicio_vacinacao'] = pd.to_datetime(df_pandas['data_inicio_vacinacao'])"
      ],
      "metadata": {
        "id": "bIQStqUVHEwN"
      },
      "execution_count": null,
      "outputs": []
    },
    {
      "cell_type": "code",
      "source": [
        "# Plot com Seaborn para visualização dos registros da coluna 'fonte_dos_dados'\n",
        "sns.countplot(x=df_pandas['fonte_dos_dados']);\n",
        "# É possível observar que a maioria dos dados são informados pelos estados membros e/ou provenientes de relatórios oficiais.\n",
        "# E uma pequena taxa são provenientes do \"Our World in Data\" "
      ],
      "metadata": {
        "id": "lYlYRThm15pH"
      },
      "execution_count": null,
      "outputs": []
    },
    {
      "cell_type": "code",
      "source": [
        "# Plotagem da quantidade de pessoas totalmente vacinadas por país\n",
        "\n",
        "# Ordenando o DataFrame pela coluna \"cumulativo_de_pessoas_totalmente_vacinadas\"\n",
        "df_sorted = df_pandas.sort_values(by='cumulativo_de_pessoas_totalmente_vacinadas', ascending=False)\n",
        "\n",
        "# Plotando o gráfico de barras ordenado usando seaborn\n",
        "sns.barplot(x='pais', y='cumulativo_de_pessoas_totalmente_vacinadas', data=df_sorted)\n",
        "\n",
        "# Rotacionando os rótulos do eixo x\n",
        "plt.xticks(rotation=90)\n",
        "\n",
        "# Exibindo o gráfico\n",
        "plt.show()"
      ],
      "metadata": {
        "id": "q_jy_duOCjJh"
      },
      "execution_count": null,
      "outputs": []
    },
    {
      "cell_type": "code",
      "source": [
        "# Plotagem da quantidade de tipos de vacinas utilizadas por pais\n",
        "\n",
        "df = px.data.tips() # 'tips' para receber somente os tipos\n",
        "fig = px.histogram(df_pandas, x=\"numero_de_tipos_de_vacina_usados\", y= \"pais\") # Nome do dataframe e do eixo\n",
        "fig.show() # Exibição"
      ],
      "metadata": {
        "id": "ujd_c_TdD_1V"
      },
      "execution_count": null,
      "outputs": []
    },
    {
      "cell_type": "code",
      "source": [
        "# Plotagem dos países que iniciaram o período de vacinação primeiro\n",
        "\n",
        "# Ordenando o DataFrame pela coluna \"data_inicio_vacinacao\"\n",
        "df_sorted = df_pandas.sort_values(by='data_inicio_vacinacao')\n",
        "\n",
        "# Plotando o gráfico de barras ordenado usando seaborn\n",
        "sns.countplot(x='pais', data=df_sorted)\n",
        "\n",
        "# Rotacionando os rótulos do eixo x\n",
        "plt.xticks(rotation=90)\n",
        "\n",
        "# Exibindo o gráfico\n",
        "plt.show()\n"
      ],
      "metadata": {
        "id": "clD2ETKeF22G"
      },
      "execution_count": null,
      "outputs": []
    },
    {
      "cell_type": "code",
      "source": [
        "# Plotagem do número total de pessoas com somente uma dose por país, ordenado pela ultima data de atualização\n",
        "\n",
        "grafico = px.treemap(df_pandas, \n",
        "                     path=['pais', 'cumulativo_de_pessoas_com_uma_dose'], \n",
        "                     color='data_ultima_atualizacao',\n",
        "                     color_continuous_scale='blues')\n",
        "\n",
        "grafico.show()"
      ],
      "metadata": {
        "id": "fXyZbGjy_8iK"
      },
      "execution_count": null,
      "outputs": []
    },
    {
      "cell_type": "markdown",
      "source": [
        "# Preparação dos Arquivos"
      ],
      "metadata": {
        "id": "0VEmxYTzCxyx"
      }
    },
    {
      "cell_type": "code",
      "source": [
        "# Salvando dataset tratado localmente, em formato 'csv'\n",
        "\n",
        "df_pandas.to_csv('vaccination_data_treated.csv', index=False)"
      ],
      "metadata": {
        "id": "YYOltfdrCzKY"
      },
      "execution_count": null,
      "outputs": []
    },
    {
      "cell_type": "markdown",
      "source": [
        "# Envio para o MongoDB"
      ],
      "metadata": {
        "id": "_nzXAk0MDmV6"
      }
    },
    {
      "cell_type": "code",
      "source": [
        "# Criando conexão com o MongoDB\n",
        "\n",
        "uri = \"Mongo uri\"\n",
        "client = MongoClient(uri,tls=True,tlsCertificateKeyFile='Mongo Key')"
      ],
      "metadata": {
        "id": "rfE0jVrtDs3R"
      },
      "execution_count": null,
      "outputs": []
    },
    {
      "cell_type": "code",
      "source": [
        "# Criando coleção para enviar para o MongoDB\n",
        "\n",
        "db = client['covid_vaccination_data']\n",
        "colecaotreated = db['covid_vaccination_data_treated']"
      ],
      "metadata": {
        "id": "9ZhiPRSfE40K"
      },
      "execution_count": null,
      "outputs": []
    },
    {
      "cell_type": "code",
      "source": [
        "# Ao enviar o dataset para o MongoDB ocorreu um erro pois as colunas de data possuem valores nulos do tipo \"NaT\" (Not a time)\n",
        "# Faz-se necessário entao substituir os valores \"NaT\" por valores padrões, nesse caso será \"0000-00-00\"\n",
        "df_pandas = df_pandas.fillna({'data_ultima_atualizacao': 0000-00-00})\n",
        "df_pandas = df_pandas.fillna({'data_inicio_vacinacao': 0000-00-00})"
      ],
      "metadata": {
        "id": "AG-mW9dFF97P"
      },
      "execution_count": null,
      "outputs": []
    },
    {
      "cell_type": "code",
      "source": [
        "# Enviando o Dataset tratado para o MongoDB\n",
        "\n",
        "df_pandas.reset_index(drop=True)\n",
        "df01 = df_pandas.to_dict(\"records\")\n",
        "colecaotreated.insert_many(df01)"
      ],
      "metadata": {
        "id": "H37BNhXEFQgf"
      },
      "execution_count": null,
      "outputs": []
    },
    {
      "cell_type": "code",
      "source": [
        "# Verificando se o arquivo foi enviado com sucesso\n",
        "colecaotreated.count_documents({})\n",
        "# Como podemos conferir o dataset foi enviado corretamente para o MongoDB"
      ],
      "metadata": {
        "id": "YjW5HW7QHAk4"
      },
      "execution_count": null,
      "outputs": []
    },
    {
      "cell_type": "markdown",
      "source": [
        "# FIM DO PROCESSO"
      ],
      "metadata": {
        "id": "Te1ftmYPHy35"
      }
    }
  ]
}